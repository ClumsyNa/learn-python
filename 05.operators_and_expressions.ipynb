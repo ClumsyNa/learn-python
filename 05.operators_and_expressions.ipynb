{
 "cells": [
  {
   "cell_type": "code",
   "execution_count": 7,
   "metadata": {},
   "outputs": [
    {
     "name": "stdout",
     "output_type": "stream",
     "text": [
      "hello worled\n"
     ]
    }
   ],
   "source": [
    "print(\"hello worled\")"
   ]
  },
  {
   "cell_type": "code",
   "execution_count": 8,
   "metadata": {},
   "outputs": [
    {
     "name": "stdout",
     "output_type": "stream",
     "text": [
      "6\n"
     ]
    }
   ],
   "source": [
    "a = 2\n",
    "a = a * 3\n",
    "print(a)"
   ]
  },
  {
   "cell_type": "code",
   "execution_count": 9,
   "metadata": {},
   "outputs": [
    {
     "name": "stdout",
     "output_type": "stream",
     "text": [
      "6\n"
     ]
    }
   ],
   "source": [
    "a = 2\n",
    "a *= 3\n",
    "print(a)"
   ]
  },
  {
   "cell_type": "code",
   "execution_count": 10,
   "metadata": {},
   "outputs": [
    {
     "name": "stdout",
     "output_type": "stream",
     "text": [
      "Area is 10\n",
      "Perimeter is 14\n"
     ]
    }
   ],
   "source": [
    "length = 5\n",
    "breadth = 2\n",
    "\n",
    "area = length * breadth\n",
    "print('Area is', area)\n",
    "print('Perimeter is', 2 * (length + breadth))"
   ]
  },
  {
   "cell_type": "code",
   "execution_count": 11,
   "metadata": {},
   "outputs": [
    {
     "name": "stdout",
     "output_type": "stream",
     "text": [
      "No, it is a little lower than that\n",
      "Done\n"
     ]
    }
   ],
   "source": [
    "number = 23\n",
    "guess = int(input('Enter an integer : '))\n",
    "\n",
    "if guess == number:\n",
    "    # 新块从这里开始\n",
    "    print('Congratulations, you guessed it.')\n",
    "    print('(but you do not win any prizes!)')\n",
    "    # 新块在这里结束\n",
    "elif guess < number:\n",
    "    # 另一代码块\n",
    "    print('No, it is a little higher than that')\n",
    "    # 你可以在此做任何你希望在该代码块内进行的事情\n",
    "else:\n",
    "    print('No, it is a little lower than that')\n",
    "    # 你必须通过猜测一个大于（>）设置数的数字来到达这里。\n",
    "\n",
    "print('Done')\n",
    "# 这最后一句语句将在\n",
    "# if 语句执行完毕后执行。"
   ]
  },
  {
   "cell_type": "code",
   "execution_count": 13,
   "metadata": {},
   "outputs": [],
   "source": [
    "if False:\n",
    "    print('Yes, it is true')"
   ]
  },
  {
   "cell_type": "code",
   "execution_count": 30,
   "metadata": {},
   "outputs": [
    {
     "name": "stdout",
     "output_type": "stream",
     "text": [
      "1\n",
      "2\n",
      "3\n",
      "4\n"
     ]
    }
   ],
   "source": [
    "for i in range(1, 5):\n",
    "    print(i)\n"
   ]
  },
  {
   "cell_type": "code",
   "execution_count": 36,
   "metadata": {},
   "outputs": [
    {
     "name": "stdout",
     "output_type": "stream",
     "text": [
      "[10, 11, 12]\n",
      "3\n",
      "5\n",
      "6\n",
      "7\n",
      "8\n"
     ]
    }
   ],
   "source": [
    "print(list(range(10,13,1)))\n",
    "\n",
    "a = [1, 3,  5, 6, 7, 8, 9]\n",
    "for i in a[1:-1]:\n",
    "    print(i)"
   ]
  },
  {
   "cell_type": "code",
   "execution_count": 37,
   "metadata": {},
   "outputs": [
    {
     "name": "stdout",
     "output_type": "stream",
     "text": [
      "Length of the string is 1\n",
      "Done\n"
     ]
    }
   ],
   "source": [
    "while True:\n",
    "    s = input('Enter something : ')\n",
    "    if s == 'quit':\n",
    "        break\n",
    "    print('Length of the string is', len(s))\n",
    "print('Done')"
   ]
  }
 ],
 "metadata": {
  "kernelspec": {
   "display_name": "base",
   "language": "python",
   "name": "python3"
  },
  "language_info": {
   "codemirror_mode": {
    "name": "ipython",
    "version": 3
   },
   "file_extension": ".py",
   "mimetype": "text/x-python",
   "name": "python",
   "nbconvert_exporter": "python",
   "pygments_lexer": "ipython3",
   "version": "3.9.13"
  },
  "orig_nbformat": 4
 },
 "nbformat": 4,
 "nbformat_minor": 2
}
